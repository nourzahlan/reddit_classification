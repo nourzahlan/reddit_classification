{
 "cells": [
  {
   "cell_type": "markdown",
   "metadata": {},
   "source": [
    "# Imports"
   ]
  },
  {
   "cell_type": "code",
   "execution_count": 76,
   "metadata": {},
   "outputs": [],
   "source": [
    "import requests\n",
    "import time\n",
    "import pandas as pd\n",
    "import regex as re\n",
    "import matplotlib.pyplot as plt\n",
    "from sklearn.model_selection import train_test_split, GridSearchCV, cross_val_score\n",
    "from sklearn.linear_model import LogisticRegression\n",
    "from sklearn.feature_extraction.text import CountVectorizer, TfidfVectorizer \n",
    "from sklearn.pipeline import Pipeline\n",
    "from sklearn.metrics import confusion_matrix, accuracy_score, precision_score, recall_score\n",
    "from sklearn.naive_bayes import MultinomialNB\n",
    "from sklearn.ensemble import RandomForestClassifier, ExtraTreesClassifier\n",
    "from nltk.tokenize import RegexpTokenizer\n",
    "from nltk.stem import WordNetLemmatizer\n",
    "from nltk.corpus import stopwords\n",
    "\n",
    "%matplotlib inline"
   ]
  },
  {
   "cell_type": "markdown",
   "metadata": {},
   "source": [
    "# Fetching Data"
   ]
  },
  {
   "cell_type": "markdown",
   "metadata": {},
   "source": [
    "The conspiracy and climate skeptics subreddits have about 840k and 11k subscribers respectively, with probably a lot of common subscribers. The goal of this section is to pull about 1000 posts from each subreddits in order to have data to effectively build a model to recognize trends accross titles and effectively classify them."
   ]
  },
  {
   "cell_type": "code",
   "execution_count": 2,
   "metadata": {},
   "outputs": [],
   "source": [
    "# Conspiracy and Climate Skeptics URLs\n",
    "url = 'https://www.reddit.com/r/conspiracy/.json'\n",
    "url_2 = 'https://www.reddit.com/r/climateskeptics/.json'\n",
    "\n",
    "headers = {'User-agent' : 'Nour Zahlan'}"
   ]
  },
  {
   "cell_type": "code",
   "execution_count": 3,
   "metadata": {},
   "outputs": [],
   "source": [
    "# Function to pull subreddit posts\n",
    "def get_subreddit(url, n_pulls, headers):    \n",
    "\n",
    "    # Create empty templates\n",
    "    posts = []\n",
    "    after = None\n",
    "\n",
    "    # Create a loop that does max 25 requests per pull\n",
    "    for pull_num in range(n_pulls):\n",
    "        print(\"Pulling data attempted\", pull_num+1,\"time(s)\")\n",
    "\n",
    "        if after == None:\n",
    "            new_url = url                 # base case\n",
    "        else:\n",
    "            new_url = url+\"?after=\"+after # subsequent iterations\n",
    "\n",
    "        res = requests.get(new_url, headers=headers)\n",
    "\n",
    "        if res.status_code == 200:\n",
    "            subreddit_json = res.json()                      # Pull JSON\n",
    "            posts.extend(subreddit_json['data']['children']) # Get subreddit posts\n",
    "            after = subreddit_json['data']['after']          # 'after' = ID of the last post in this iteration\n",
    "        else:\n",
    "            print(\"We've run into an error. The status code is:\", res.status_code)\n",
    "            break\n",
    "\n",
    "        time.sleep(1)\n",
    "        \n",
    "    return(posts)"
   ]
  },
  {
   "cell_type": "code",
   "execution_count": 4,
   "metadata": {},
   "outputs": [
    {
     "name": "stdout",
     "output_type": "stream",
     "text": [
      "Pulling data attempted 1 time(s)\n",
      "Pulling data attempted 2 time(s)\n",
      "Pulling data attempted 3 time(s)\n",
      "Pulling data attempted 4 time(s)\n",
      "Pulling data attempted 5 time(s)\n",
      "Pulling data attempted 6 time(s)\n",
      "Pulling data attempted 7 time(s)\n",
      "Pulling data attempted 8 time(s)\n",
      "Pulling data attempted 9 time(s)\n",
      "Pulling data attempted 10 time(s)\n",
      "Pulling data attempted 11 time(s)\n",
      "Pulling data attempted 12 time(s)\n",
      "Pulling data attempted 13 time(s)\n",
      "Pulling data attempted 14 time(s)\n",
      "Pulling data attempted 15 time(s)\n",
      "Pulling data attempted 16 time(s)\n",
      "Pulling data attempted 17 time(s)\n",
      "Pulling data attempted 18 time(s)\n",
      "Pulling data attempted 19 time(s)\n",
      "Pulling data attempted 20 time(s)\n",
      "Pulling data attempted 21 time(s)\n",
      "Pulling data attempted 22 time(s)\n",
      "Pulling data attempted 23 time(s)\n",
      "Pulling data attempted 24 time(s)\n",
      "Pulling data attempted 25 time(s)\n",
      "Pulling data attempted 26 time(s)\n",
      "Pulling data attempted 27 time(s)\n",
      "Pulling data attempted 28 time(s)\n",
      "Pulling data attempted 29 time(s)\n",
      "Pulling data attempted 30 time(s)\n",
      "Pulling data attempted 31 time(s)\n",
      "Pulling data attempted 32 time(s)\n",
      "Pulling data attempted 33 time(s)\n",
      "Pulling data attempted 34 time(s)\n",
      "Pulling data attempted 35 time(s)\n",
      "Pulling data attempted 36 time(s)\n",
      "Pulling data attempted 37 time(s)\n",
      "Pulling data attempted 38 time(s)\n",
      "Pulling data attempted 39 time(s)\n",
      "Pulling data attempted 40 time(s)\n",
      "Pulling data attempted 41 time(s)\n",
      "Pulling data attempted 1 time(s)\n",
      "Pulling data attempted 2 time(s)\n",
      "Pulling data attempted 3 time(s)\n",
      "Pulling data attempted 4 time(s)\n",
      "Pulling data attempted 5 time(s)\n",
      "Pulling data attempted 6 time(s)\n",
      "Pulling data attempted 7 time(s)\n",
      "Pulling data attempted 8 time(s)\n",
      "Pulling data attempted 9 time(s)\n",
      "Pulling data attempted 10 time(s)\n",
      "Pulling data attempted 11 time(s)\n",
      "Pulling data attempted 12 time(s)\n",
      "Pulling data attempted 13 time(s)\n",
      "Pulling data attempted 14 time(s)\n",
      "Pulling data attempted 15 time(s)\n",
      "Pulling data attempted 16 time(s)\n",
      "Pulling data attempted 17 time(s)\n",
      "Pulling data attempted 18 time(s)\n",
      "Pulling data attempted 19 time(s)\n",
      "Pulling data attempted 20 time(s)\n",
      "Pulling data attempted 21 time(s)\n",
      "Pulling data attempted 22 time(s)\n",
      "Pulling data attempted 23 time(s)\n",
      "Pulling data attempted 24 time(s)\n",
      "Pulling data attempted 25 time(s)\n",
      "Pulling data attempted 26 time(s)\n",
      "Pulling data attempted 27 time(s)\n",
      "Pulling data attempted 28 time(s)\n",
      "Pulling data attempted 29 time(s)\n",
      "Pulling data attempted 30 time(s)\n",
      "Pulling data attempted 31 time(s)\n",
      "Pulling data attempted 32 time(s)\n",
      "Pulling data attempted 33 time(s)\n",
      "Pulling data attempted 34 time(s)\n",
      "Pulling data attempted 35 time(s)\n",
      "Pulling data attempted 36 time(s)\n",
      "Pulling data attempted 37 time(s)\n",
      "Pulling data attempted 38 time(s)\n",
      "Pulling data attempted 39 time(s)\n",
      "Pulling data attempted 40 time(s)\n",
      "Pulling data attempted 41 time(s)\n"
     ]
    }
   ],
   "source": [
    "# Call function\n",
    "conspiracy_data = get_subreddit(url, n_pulls = 41, headers = headers)\n",
    "climate_data = get_subreddit(url_2, n_pulls = 41, headers = headers)"
   ]
  },
  {
   "cell_type": "code",
   "execution_count": 40,
   "metadata": {},
   "outputs": [
    {
     "name": "stdout",
     "output_type": "stream",
     "text": [
      "Conspiracy:  1011\n",
      "Climate Skeptics:  1019\n"
     ]
    }
   ],
   "source": [
    "# Checking how many posts we got in each subreddit\n",
    "print('Conspiracy: ', len(conspiracy_data))\n",
    "print('Climate Skeptics: ', len(climate_data))"
   ]
  },
  {
   "cell_type": "code",
   "execution_count": 41,
   "metadata": {
    "scrolled": true
   },
   "outputs": [],
   "source": [
    "# Building Dataframes\n",
    "conspiracy_dict = {'title' : [], 'source' : 'conspiracy'}\n",
    "climate_dict = {'title' : [], 'source' : 'climate'}\n",
    "\n",
    "for a in range(len(conspiracy_data)):\n",
    "    conspiracy_dict['title'].append(conspiracy_data[a]['data']['title'])\n",
    "    \n",
    "for a in range(len(climate_data)):\n",
    "    climate_dict['title'].append(climate_data[a]['data']['title'])\n",
    "    \n",
    "\n",
    "conspiracy_df = pd.DataFrame(conspiracy_dict)\n",
    "climate_df = pd.DataFrame(climate_dict)\n",
    "df = pd.concat([conspiracy_df, climate_df])"
   ]
  },
  {
   "cell_type": "markdown",
   "metadata": {},
   "source": [
    "# EDA"
   ]
  },
  {
   "cell_type": "markdown",
   "metadata": {},
   "source": [
    "Basic EDA where we check for missing values, which we shouldn't have any of since we built the dataframe ourselves, also the first five rows to see the formats of the titles and decide how we want to handle formating"
   ]
  },
  {
   "cell_type": "code",
   "execution_count": 42,
   "metadata": {
    "scrolled": true
   },
   "outputs": [
    {
     "data": {
      "text/html": [
       "<div>\n",
       "<style scoped>\n",
       "    .dataframe tbody tr th:only-of-type {\n",
       "        vertical-align: middle;\n",
       "    }\n",
       "\n",
       "    .dataframe tbody tr th {\n",
       "        vertical-align: top;\n",
       "    }\n",
       "\n",
       "    .dataframe thead th {\n",
       "        text-align: right;\n",
       "    }\n",
       "</style>\n",
       "<table border=\"1\" class=\"dataframe\">\n",
       "  <thead>\n",
       "    <tr style=\"text-align: right;\">\n",
       "      <th></th>\n",
       "      <th>title</th>\n",
       "      <th>source</th>\n",
       "    </tr>\n",
       "  </thead>\n",
       "  <tbody>\n",
       "    <tr>\n",
       "      <th>0</th>\n",
       "      <td>Graph reveals devastating impact of CO2 emissi...</td>\n",
       "      <td>climate</td>\n",
       "    </tr>\n",
       "    <tr>\n",
       "      <th>1</th>\n",
       "      <td>How The Climate Consensus Was Created</td>\n",
       "      <td>climate</td>\n",
       "    </tr>\n",
       "    <tr>\n",
       "      <th>2</th>\n",
       "      <td>When they say the oil companies are against Ca...</td>\n",
       "      <td>climate</td>\n",
       "    </tr>\n",
       "    <tr>\n",
       "      <th>3</th>\n",
       "      <td>Carbon Dioxide Only Causes Climate Change in U...</td>\n",
       "      <td>climate</td>\n",
       "    </tr>\n",
       "    <tr>\n",
       "      <th>4</th>\n",
       "      <td>In 2009 James Hansen was the head of NASA Godd...</td>\n",
       "      <td>climate</td>\n",
       "    </tr>\n",
       "  </tbody>\n",
       "</table>\n",
       "</div>"
      ],
      "text/plain": [
       "                                               title   source\n",
       "0  Graph reveals devastating impact of CO2 emissi...  climate\n",
       "1              How The Climate Consensus Was Created  climate\n",
       "2  When they say the oil companies are against Ca...  climate\n",
       "3  Carbon Dioxide Only Causes Climate Change in U...  climate\n",
       "4  In 2009 James Hansen was the head of NASA Godd...  climate"
      ]
     },
     "execution_count": 42,
     "metadata": {},
     "output_type": "execute_result"
    }
   ],
   "source": [
    "# Check the first five rows of climate skeptics df\n",
    "climate_df.head()"
   ]
  },
  {
   "cell_type": "code",
   "execution_count": 43,
   "metadata": {
    "scrolled": true
   },
   "outputs": [
    {
     "data": {
      "text/html": [
       "<div>\n",
       "<style scoped>\n",
       "    .dataframe tbody tr th:only-of-type {\n",
       "        vertical-align: middle;\n",
       "    }\n",
       "\n",
       "    .dataframe tbody tr th {\n",
       "        vertical-align: top;\n",
       "    }\n",
       "\n",
       "    .dataframe thead th {\n",
       "        text-align: right;\n",
       "    }\n",
       "</style>\n",
       "<table border=\"1\" class=\"dataframe\">\n",
       "  <thead>\n",
       "    <tr style=\"text-align: right;\">\n",
       "      <th></th>\n",
       "      <th>title</th>\n",
       "      <th>source</th>\n",
       "    </tr>\n",
       "  </thead>\n",
       "  <tbody>\n",
       "    <tr>\n",
       "      <th>0</th>\n",
       "      <td>Announcement: /r/conspiracy Is Accepting Moder...</td>\n",
       "      <td>conspiracy</td>\n",
       "    </tr>\n",
       "    <tr>\n",
       "      <th>1</th>\n",
       "      <td>Crips and Bloods march peacefully together in ...</td>\n",
       "      <td>conspiracy</td>\n",
       "    </tr>\n",
       "    <tr>\n",
       "      <th>2</th>\n",
       "      <td>ISISrael?</td>\n",
       "      <td>conspiracy</td>\n",
       "    </tr>\n",
       "    <tr>\n",
       "      <th>3</th>\n",
       "      <td>KGB defector Yuri Bezmenov (1984): \"Exposure t...</td>\n",
       "      <td>conspiracy</td>\n",
       "    </tr>\n",
       "    <tr>\n",
       "      <th>4</th>\n",
       "      <td>Mystery remains over why Kim Foxx's office dis...</td>\n",
       "      <td>conspiracy</td>\n",
       "    </tr>\n",
       "  </tbody>\n",
       "</table>\n",
       "</div>"
      ],
      "text/plain": [
       "                                               title      source\n",
       "0  Announcement: /r/conspiracy Is Accepting Moder...  conspiracy\n",
       "1  Crips and Bloods march peacefully together in ...  conspiracy\n",
       "2                                          ISISrael?  conspiracy\n",
       "3  KGB defector Yuri Bezmenov (1984): \"Exposure t...  conspiracy\n",
       "4  Mystery remains over why Kim Foxx's office dis...  conspiracy"
      ]
     },
     "execution_count": 43,
     "metadata": {},
     "output_type": "execute_result"
    }
   ],
   "source": [
    "# Check the first five rows of conspiracy df\n",
    "conspiracy_df.head()"
   ]
  },
  {
   "cell_type": "code",
   "execution_count": 74,
   "metadata": {},
   "outputs": [
    {
     "data": {
      "text/plain": [
       "title                0\n",
       "source               0\n",
       "source_conspiracy    0\n",
       "predictions          0\n",
       "dtype: int64"
      ]
     },
     "execution_count": 74,
     "metadata": {},
     "output_type": "execute_result"
    }
   ],
   "source": [
    "# Make sure we don't have any missing values\n",
    "df.isna().sum()"
   ]
  },
  {
   "cell_type": "code",
   "execution_count": 44,
   "metadata": {},
   "outputs": [
    {
     "name": "stdout",
     "output_type": "stream",
     "text": [
      "Conspiracy dataframe row number:  1011\n",
      "Climate Skeptics dataframe row number:  1019\n",
      "Combined dataframe row number:  2030\n"
     ]
    }
   ],
   "source": [
    "# making sure we have the right amount of documents\n",
    "print('Conspiracy dataframe row number: ', conspiracy_df.shape[0])\n",
    "print('Climate Skeptics dataframe row number: ', climate_df.shape[0])\n",
    "print('Combined dataframe row number: ', df.shape[0])"
   ]
  },
  {
   "cell_type": "markdown",
   "metadata": {},
   "source": [
    "# Cleaning"
   ]
  },
  {
   "cell_type": "markdown",
   "metadata": {},
   "source": [
    "From our observations above, it makes sense to change the titles so that words that have the same meaning aren't counted as different, based on either punctuation or if it's a singular or plural. Which is why we change the titles to all lower case and lemmatize each word separately.\n",
    "We could use either stemming or lemmatizing but we still want to observe trends and understandable topics in our titles, and stemming often results in roots of words that aren't in the dictionary and is too harsh overall, which is why lemmatizing is the better option.\n",
    "We also get rid of special characters, numbers and punctuation, leaving only letter characters since we want to study language and punctuation often doesn't tell us much about meaning, so converting it to letter only makes it easier for later formating."
   ]
  },
  {
   "cell_type": "code",
   "execution_count": 45,
   "metadata": {},
   "outputs": [],
   "source": [
    "# Function to lemmatize strings\n",
    "lemmatizer = WordNetLemmatizer()\n",
    "def lemmatize_string(string_in):\n",
    "    string_list = string_in.split()\n",
    "    str_lemmatized = ''\n",
    "    for i in range(len(string_list)):\n",
    "        str_lemmatized = str_lemmatized + lemmatizer.lemmatize(string_list[i]) + ' '\n",
    "    return str_lemmatized[:-1]"
   ]
  },
  {
   "cell_type": "code",
   "execution_count": 46,
   "metadata": {
    "scrolled": true
   },
   "outputs": [
    {
     "data": {
      "text/html": [
       "<div>\n",
       "<style scoped>\n",
       "    .dataframe tbody tr th:only-of-type {\n",
       "        vertical-align: middle;\n",
       "    }\n",
       "\n",
       "    .dataframe tbody tr th {\n",
       "        vertical-align: top;\n",
       "    }\n",
       "\n",
       "    .dataframe thead th {\n",
       "        text-align: right;\n",
       "    }\n",
       "</style>\n",
       "<table border=\"1\" class=\"dataframe\">\n",
       "  <thead>\n",
       "    <tr style=\"text-align: right;\">\n",
       "      <th></th>\n",
       "      <th>title</th>\n",
       "      <th>source</th>\n",
       "      <th>source_conspiracy</th>\n",
       "    </tr>\n",
       "  </thead>\n",
       "  <tbody>\n",
       "    <tr>\n",
       "      <th>0</th>\n",
       "      <td>announcement   r conspiracy is accepting moder...</td>\n",
       "      <td>conspiracy</td>\n",
       "      <td>1</td>\n",
       "    </tr>\n",
       "    <tr>\n",
       "      <th>1</th>\n",
       "      <td>crips and bloods march peacefully together in ...</td>\n",
       "      <td>conspiracy</td>\n",
       "      <td>1</td>\n",
       "    </tr>\n",
       "    <tr>\n",
       "      <th>2</th>\n",
       "      <td>isisrael</td>\n",
       "      <td>conspiracy</td>\n",
       "      <td>1</td>\n",
       "    </tr>\n",
       "    <tr>\n",
       "      <th>3</th>\n",
       "      <td>kgb defector yuri bezmenov          exposure t...</td>\n",
       "      <td>conspiracy</td>\n",
       "      <td>1</td>\n",
       "    </tr>\n",
       "    <tr>\n",
       "      <th>4</th>\n",
       "      <td>mystery remains over why kim foxx s office dis...</td>\n",
       "      <td>conspiracy</td>\n",
       "      <td>1</td>\n",
       "    </tr>\n",
       "  </tbody>\n",
       "</table>\n",
       "</div>"
      ],
      "text/plain": [
       "                                               title      source  \\\n",
       "0  announcement   r conspiracy is accepting moder...  conspiracy   \n",
       "1  crips and bloods march peacefully together in ...  conspiracy   \n",
       "2                                          isisrael   conspiracy   \n",
       "3  kgb defector yuri bezmenov          exposure t...  conspiracy   \n",
       "4  mystery remains over why kim foxx s office dis...  conspiracy   \n",
       "\n",
       "   source_conspiracy  \n",
       "0                  1  \n",
       "1                  1  \n",
       "2                  1  \n",
       "3                  1  \n",
       "4                  1  "
      ]
     },
     "execution_count": 46,
     "metadata": {},
     "output_type": "execute_result"
    }
   ],
   "source": [
    "# make all titles lowercase, lemmatize the words and remove special characters and numbers\n",
    "def clean_df(df):\n",
    "    df['title'] = df['title'].map(lambda cell: cell.lower())\n",
    "    df['title'] = df['title'].map(lambda cell: re.sub(\"[^a-z]\", \" \", cell))\n",
    "    df['title'] = df['title'].map(lambda cell: lemmatize_string(cell))\n",
    "\n",
    "clean_df(df)    \n",
    "clean_df(conspiracy_df)\n",
    "clean_df(climate_df)\n",
    "\n",
    "# Create dummy column to use as target for the source class, the positive class is conspiracy\n",
    "df['source_conspiracy'] = df['source'].map(lambda cell: 1 if cell == 'conspiracy' else 0)\n",
    "df.head()"
   ]
  },
  {
   "cell_type": "markdown",
   "metadata": {},
   "source": [
    "# More EDA"
   ]
  },
  {
   "cell_type": "code",
   "execution_count": 47,
   "metadata": {
    "scrolled": false
   },
   "outputs": [
    {
     "data": {
      "text/plain": [
       "assange       22\n",
       "cia           24\n",
       "real          24\n",
       "story         25\n",
       "video         25\n",
       "hussle        25\n",
       "media         28\n",
       "new           28\n",
       "government    29\n",
       "just          32\n",
       "think         32\n",
       "world         32\n",
       "joe           33\n",
       "years         33\n",
       "nipsey        33\n",
       "like          39\n",
       "biden         44\n",
       "trump         48\n",
       "people        49\n",
       "conspiracy    64\n",
       "dtype: int64"
      ]
     },
     "execution_count": 47,
     "metadata": {},
     "output_type": "execute_result"
    }
   ],
   "source": [
    "# inspired by Noah Christiansen\n",
    "# Doing a count vectorizer to get individial word counts, \n",
    "# to get a sense of popular words in conspiracy subreddit\n",
    "cvec = CountVectorizer(stop_words = 'english')\n",
    "conspiracy_words = pd.DataFrame(cvec.fit_transform(conspiracy_df['title']).todense(),\n",
    "                               columns = cvec.get_feature_names())\n",
    "\n",
    "conspiracy_words.sum().sort_values().tail(20)"
   ]
  },
  {
   "cell_type": "code",
   "execution_count": 48,
   "metadata": {},
   "outputs": [
    {
     "data": {
      "text/plain": [
       "record         22\n",
       "data           23\n",
       "amp            23\n",
       "solar          26\n",
       "ice            26\n",
       "world          26\n",
       "sea            27\n",
       "scientists     28\n",
       "earth          28\n",
       "energy         29\n",
       "carbon         30\n",
       "years          31\n",
       "deal           42\n",
       "science        55\n",
       "green          59\n",
       "new            94\n",
       "warming       107\n",
       "global        109\n",
       "change        207\n",
       "climate       408\n",
       "dtype: int64"
      ]
     },
     "execution_count": 48,
     "metadata": {},
     "output_type": "execute_result"
    }
   ],
   "source": [
    "# Doing a count vectorizer to get individial word counts, \n",
    "# to get a sense of popular words in climate skeptics subreddit\n",
    "climate_words = pd.DataFrame(cvec.fit_transform(climate_df['title']).todense(),\n",
    "                               columns = cvec.get_feature_names())\n",
    "\n",
    "climate_words.sum().sort_values().tail(20)"
   ]
  },
  {
   "cell_type": "code",
   "execution_count": 49,
   "metadata": {},
   "outputs": [],
   "source": [
    "# Doing a count vectorizer to get bigram counts, \n",
    "# to get a sense of popular topics in conspiracy and climate skeptics subreddit\n",
    "cvec = CountVectorizer(stop_words = 'english', ngram_range=(2,2))\n",
    "conspiracy_words_2 = pd.DataFrame(cvec.fit_transform(conspiracy_df['title']).todense(),\n",
    "                               columns = cvec.get_feature_names())\n",
    "\n",
    "climate_words_2 = pd.DataFrame(cvec.fit_transform(climate_df['title']).todense(),\n",
    "                               columns = cvec.get_feature_names())"
   ]
  },
  {
   "cell_type": "code",
   "execution_count": 50,
   "metadata": {},
   "outputs": [
    {
     "data": {
      "image/png": "[encoded data removed]",
      "text/plain": [
       "<Figure size 576x432 with 1 Axes>"
      ]
     },
     "metadata": {
      "needs_background": "light"
     },
     "output_type": "display_data"
    }
   ],
   "source": [
    "# plot bar graph of most popular bigrams to show number of occurences\n",
    "plt.figure(figsize=(8,6))\n",
    "plt.xlabel('Number of occurences', size=15)\n",
    "plt.ylabel('Bigrams', size=15)\n",
    "plt.title('Most frequent bigrams in Climate Skeptics subreddit', size=20)\n",
    "climate_words_2.sum().sort_values().tail(11).plot('barh', color='midnightblue', fontsize=12);"
   ]
  },
  {
   "cell_type": "code",
   "execution_count": 51,
   "metadata": {},
   "outputs": [
    {
     "data": {
      "image/png": "[encoded data removed]",
      "text/plain": [
       "<Figure size 576x432 with 1 Axes>"
      ]
     },
     "metadata": {
      "needs_background": "light"
     },
     "output_type": "display_data"
    }
   ],
   "source": [
    "# plot bar graph of most popular bigrams to show number of occurences\n",
    "plt.figure(figsize=(8,6))\n",
    "plt.xlabel('Number of occurences', size=15)\n",
    "plt.ylabel('Bigrams', size=15)\n",
    "plt.title('Most frequent bigrams in Conspiracy subreddit', size=20)\n",
    "conspiracy_words_2.sum().sort_values().tail(20).plot('barh', color='midnightblue', fontsize=12);"
   ]
  },
  {
   "cell_type": "code",
   "execution_count": 52,
   "metadata": {},
   "outputs": [
    {
     "data": {
      "text/plain": [
       "2687"
      ]
     },
     "execution_count": 52,
     "metadata": {},
     "output_type": "execute_result"
    }
   ],
   "source": [
    "# Checking the number of words that appear in both dataframes\n",
    "common = [a for a in conspiracy_words.columns if not (a in climate_words.columns)]\n",
    "len(common)"
   ]
  },
  {
   "cell_type": "markdown",
   "metadata": {},
   "source": [
    "# Preprocessing and Modeling"
   ]
  },
  {
   "cell_type": "markdown",
   "metadata": {},
   "source": [
    "## Preprocessing"
   ]
  },
  {
   "cell_type": "markdown",
   "metadata": {},
   "source": [
    "Our only predictor here is our title column, and our target is our dummy source column where 1 corresponds to conspiracy and 0 corresponds to climate skeptics."
   ]
  },
  {
   "cell_type": "code",
   "execution_count": 53,
   "metadata": {},
   "outputs": [],
   "source": [
    "# Creating our X and y, train test split\n",
    "X = df['title']\n",
    "y = df['source_conspiracy']\n",
    "accuracies = {}\n",
    "\n",
    "X_train, X_test, y_train, y_test = train_test_split(X, y, random_state = 42, stratify = y)"
   ]
  },
  {
   "cell_type": "code",
   "execution_count": 54,
   "metadata": {},
   "outputs": [],
   "source": [
    "# Function to print out all the metrics used to evaluate models\n",
    "def score_print(y_test, y_pred):\n",
    "    tn, fp, fn, tp = confusion_matrix(y_test, y_pred).ravel()\n",
    "    print('accuracy: ', accuracy_score(y_test, y_pred))\n",
    "    print('misclassification: ', 1 - accuracy_score(y_test, y_pred))\n",
    "    print('precision: ', precision_score(y_test, y_pred))\n",
    "    print('recall: ', recall_score(y_test, y_pred))\n",
    "    specificity = tn / (tn + fp)\n",
    "    print('specificity: ', specificity)"
   ]
  },
  {
   "cell_type": "markdown",
   "metadata": {},
   "source": [
    "### Baseline Accuracy"
   ]
  },
  {
   "cell_type": "markdown",
   "metadata": {},
   "source": [
    "The majority class here is conspiracy since we have a little more posts coming from that subreddit. So if we were to predict conspiracy for all posts, we would correctly predict 50.7% of our observations."
   ]
  },
  {
   "cell_type": "code",
   "execution_count": 55,
   "metadata": {
    "scrolled": true
   },
   "outputs": [
    {
     "data": {
      "text/plain": [
       "0    0.50197\n",
       "1    0.49803\n",
       "Name: source_conspiracy, dtype: float64"
      ]
     },
     "execution_count": 55,
     "metadata": {},
     "output_type": "execute_result"
    }
   ],
   "source": [
    "# Baseline accuracy found by predicting the majority class\n",
    "df['source_conspiracy'] = df['source'].map(lambda cell: 1 if cell == 'conspiracy' else 0)\n",
    "df['source_conspiracy'].value_counts(normalize = True)"
   ]
  },
  {
   "cell_type": "markdown",
   "metadata": {},
   "source": [
    "## Modeling"
   ]
  },
  {
   "cell_type": "markdown",
   "metadata": {},
   "source": [
    "Using pipelines, we want to vectorize and tranforms our titles in a way that normal models like Logistic Regression can understand the dataset and be used to generate predicitons.\n",
    "We have 2 choices for our vectorizers: Count Vectorizer and TF-IDF. They both tokenize the titles and separate them into words and then assign a value to that word. For count vectorizer, the value assigned is the number of times the word appears in the document. For TF-IDF it's the frequency at which the word appears in the document relative to the entire dataset, so the common words are given less weight than rare words, as the latter are thought to have more meaning.\n",
    "Then we fit our models (Logistic Regression, Multinomial Naive Bayes and Random Trees) with our transformed datasets to effectively generate predictions. \n",
    "We use grid search here to be able to try a number of values for each parameter, and then check which values gave us the best performance by checking the cross value score for each set of parameter and selecting the best one."
   ]
  },
  {
   "cell_type": "markdown",
   "metadata": {},
   "source": [
    "### Logistic Regression and Count Vectorizer"
   ]
  },
  {
   "cell_type": "code",
   "execution_count": 56,
   "metadata": {},
   "outputs": [
    {
     "name": "stdout",
     "output_type": "stream",
     "text": [
      "Fitting 3 folds for each of 72 candidates, totalling 216 fits\n"
     ]
    },
    {
     "name": "stderr",
     "output_type": "stream",
     "text": [
      "[Parallel(n_jobs=1)]: Using backend SequentialBackend with 1 concurrent workers.\n",
      "/Users/nourzahlan/anaconda3/lib/python3.7/site-packages/sklearn/linear_model/logistic.py:433: FutureWarning: Default solver will be changed to 'lbfgs' in 0.22. Specify a solver to silence this warning.\n",
      "  FutureWarning)\n"
     ]
    },
    {
     "name": "stdout",
     "output_type": "stream",
     "text": [
      "Best score: 0.8699080157687253\n",
      "Best params: {'cvec__max_df': 1.0, 'cvec__max_features': None, 'cvec__min_df': 1, 'cvec__ngram_range': (1, 1), 'cvec__stop_words': 'english', 'cvec__token_pattern': '\\\\w+', 'lr__penalty': 'l2'}\n",
      "train score: 0.9894875164257556\n",
      "test score: 0.8956692913385826\n"
     ]
    },
    {
     "name": "stderr",
     "output_type": "stream",
     "text": [
      "[Parallel(n_jobs=1)]: Done 216 out of 216 | elapsed:   17.0s finished\n"
     ]
    }
   ],
   "source": [
    "# Instantiate pipeline with count vectorizer and logistic regression\n",
    "pipe = Pipeline([\n",
    "    ('cvec', CountVectorizer()),\n",
    "    ('lr', LogisticRegression())\n",
    "])\n",
    "\n",
    "# Parameters to try out\n",
    "pipe_params = {\n",
    "    'cvec__stop_words': [None, 'english', ['english']],\n",
    "    'cvec__ngram_range': [(1,1), (1,2)], # also tried (1, 3)\n",
    "    'cvec__max_features': [None, 1600, 1700],\n",
    "    'cvec__token_pattern': [r'\\w+'], #also tried default\n",
    "    'cvec__max_df': [1.0, 0.8],\n",
    "    'cvec__min_df': [1, 0.05],\n",
    "    'lr__penalty': ['l2']\n",
    "}\n",
    "\n",
    "# instantiate grid search and finding out the best score and parameters\n",
    "gs = GridSearchCV(pipe, param_grid = pipe_params, cv=3, verbose=1)\n",
    "gs.fit(X_train, y_train)\n",
    "\n",
    "print('Best score:', gs.best_score_)\n",
    "print(\"Best params:\", gs.best_params_)\n",
    "\n",
    "# Printing train and test accuracy scores\n",
    "print('train score:', gs.score(X_train, y_train))\n",
    "print('test score:', gs.score(X_test, y_test))"
   ]
  },
  {
   "cell_type": "code",
   "execution_count": 57,
   "metadata": {},
   "outputs": [
    {
     "name": "stdout",
     "output_type": "stream",
     "text": [
      "accuracy:  0.8956692913385826\n",
      "misclassification:  0.10433070866141736\n",
      "precision:  0.8731343283582089\n",
      "recall:  0.924901185770751\n",
      "specificity:  0.8666666666666667\n"
     ]
    }
   ],
   "source": [
    "# generate predictions to calculate test set accuracy, misclassification, specificity, sensitivity, and precision\n",
    "y_pred = gs.predict(X_test)\n",
    "\n",
    "score_print(y_test, y_pred)\n",
    "\n",
    "accuracies['lr_cvec'] = accuracy_score(y_test, y_pred)"
   ]
  },
  {
   "cell_type": "markdown",
   "metadata": {},
   "source": [
    "### Logistic Regression and TF-IDF Vectorizer"
   ]
  },
  {
   "cell_type": "code",
   "execution_count": 58,
   "metadata": {},
   "outputs": [
    {
     "name": "stderr",
     "output_type": "stream",
     "text": [
      "[Parallel(n_jobs=1)]: Using backend SequentialBackend with 1 concurrent workers.\n",
      "/Users/nourzahlan/anaconda3/lib/python3.7/site-packages/sklearn/linear_model/logistic.py:433: FutureWarning: Default solver will be changed to 'lbfgs' in 0.22. Specify a solver to silence this warning.\n",
      "  FutureWarning)\n"
     ]
    },
    {
     "name": "stdout",
     "output_type": "stream",
     "text": [
      "Fitting 3 folds for each of 96 candidates, totalling 288 fits\n",
      "Best score: 0.878449408672799\n",
      "Best params: {'lr__penalty': 'l2', 'tvec__max_df': 1.0, 'tvec__max_features': None, 'tvec__min_df': 1, 'tvec__ngram_range': (1, 2), 'tvec__stop_words': 'english', 'tvec__token_pattern': '\\\\w+'}\n",
      "train score: 0.9914586070959264\n",
      "test score: 0.8996062992125984\n"
     ]
    },
    {
     "name": "stderr",
     "output_type": "stream",
     "text": [
      "[Parallel(n_jobs=1)]: Done 288 out of 288 | elapsed:   20.1s finished\n"
     ]
    }
   ],
   "source": [
    "# Instantiate pipeline with TF-IDF vectorizer and logistic regression\n",
    "pipe_1 = Pipeline([\n",
    "    ('tvec', TfidfVectorizer()),\n",
    "    ('lr', LogisticRegression())\n",
    "])\n",
    "\n",
    "# Parameters to try out\n",
    "pipe_1_params = {\n",
    "    'tvec__stop_words': [None, 'english'],\n",
    "    'tvec__ngram_range': [(1,1), (1,2)],\n",
    "    'tvec__max_features': [None, 1500, 1600],\n",
    "    'tvec__token_pattern': [r'\\w+'],\n",
    "    'tvec__max_df': [1.0, 0.9],\n",
    "    'tvec__min_df': [1, 0.01],\n",
    "    'lr__penalty': ['l1', 'l2'] # also tried l1\n",
    "}\n",
    "\n",
    "# instantiate grid search and finding out the best score and parameters\n",
    "gs_1 = GridSearchCV(pipe_1, param_grid = pipe_1_params, cv=3, verbose=1)\n",
    "gs_1.fit(X_train, y_train)\n",
    "\n",
    "print('Best score:', gs_1.best_score_)\n",
    "print(\"Best params:\", gs_1.best_params_)\n",
    "\n",
    "# Printing train and test accuracy scores\n",
    "print('train score:', gs_1.score(X_train, y_train))\n",
    "print('test score:', gs_1.score(X_test, y_test))"
   ]
  },
  {
   "cell_type": "code",
   "execution_count": 59,
   "metadata": {},
   "outputs": [
    {
     "name": "stdout",
     "output_type": "stream",
     "text": [
      "accuracy:  0.8996062992125984\n",
      "misclassification:  0.10039370078740162\n",
      "precision:  0.8713235294117647\n",
      "recall:  0.9367588932806324\n",
      "specificity:  0.8627450980392157\n"
     ]
    }
   ],
   "source": [
    "# generate predictions to calculate test set accuracy, misclassification, specificity, sensitivity, and precision\n",
    "y_pred = gs_1.predict(X_test)\n",
    "\n",
    "score_print(y_test, y_pred)\n",
    "accuracies['lr_tvec'] = accuracy_score(y_test, y_pred)"
   ]
  },
  {
   "cell_type": "markdown",
   "metadata": {},
   "source": [
    "### Multinomial NB and Count Vectorizer"
   ]
  },
  {
   "cell_type": "code",
   "execution_count": 60,
   "metadata": {},
   "outputs": [
    {
     "name": "stderr",
     "output_type": "stream",
     "text": [
      "[Parallel(n_jobs=1)]: Using backend SequentialBackend with 1 concurrent workers.\n"
     ]
    },
    {
     "name": "stdout",
     "output_type": "stream",
     "text": [
      "Fitting 3 folds for each of 48 candidates, totalling 144 fits\n",
      "Best score: 0.8771353482260184\n",
      "Best params: {'cvec__max_df': 1.0, 'cvec__max_features': 1900, 'cvec__min_df': 1, 'cvec__ngram_range': (1, 1), 'cvec__stop_words': None, 'cvec__token_pattern': '\\\\w+'}\n",
      "train score: 0.9507227332457293\n",
      "test score: 0.8740157480314961\n"
     ]
    },
    {
     "name": "stderr",
     "output_type": "stream",
     "text": [
      "[Parallel(n_jobs=1)]: Done 144 out of 144 | elapsed:    9.4s finished\n"
     ]
    }
   ],
   "source": [
    "# Instantiate pipeline with count vectorizer and multinomial naive bayes\n",
    "pipe_2 = Pipeline([\n",
    "    ('cvec', CountVectorizer()),\n",
    "    ('mnb', MultinomialNB())\n",
    "])\n",
    "\n",
    "# Parameters to try out\n",
    "pipe_2_params = {\n",
    "    'cvec__stop_words': [None, 'english'],\n",
    "    'cvec__ngram_range': [(1,1), (1,2)],\n",
    "    'cvec__max_features': [1600, 1800, 1900],\n",
    "    'cvec__token_pattern': [r'\\w+'],\n",
    "    'cvec__max_df': [1.0, 0.8],\n",
    "    'cvec__min_df': [1, 0.05]\n",
    "}\n",
    "\n",
    "# instantiate grid search and finding out the best score and parameters\n",
    "gs_2 = GridSearchCV(pipe_2, param_grid = pipe_2_params, cv=3, verbose=1)\n",
    "gs_2.fit(X_train, y_train)\n",
    "\n",
    "print('Best score:', gs_2.best_score_)\n",
    "print(\"Best params:\", gs_2.best_params_)\n",
    "\n",
    "# Printing train and test accuracy scores\n",
    "print('train score:', gs_2.score(X_train, y_train))\n",
    "print('test score:', gs_2.score(X_test, y_test))"
   ]
  },
  {
   "cell_type": "code",
   "execution_count": 61,
   "metadata": {},
   "outputs": [
    {
     "name": "stdout",
     "output_type": "stream",
     "text": [
      "accuracy:  0.8740157480314961\n",
      "misclassification:  0.12598425196850394\n",
      "precision:  0.895397489539749\n",
      "recall:  0.8458498023715415\n",
      "specificity:  0.9019607843137255\n"
     ]
    }
   ],
   "source": [
    "# generate predictions to calculate test set accuracy, misclassification, specificity, sensitivity, and precision\n",
    "y_pred = gs_2.predict(X_test)\n",
    "\n",
    "score_print(y_test, y_pred)\n",
    "accuracies['mb_cvec'] = accuracy_score(y_test, y_pred)"
   ]
  },
  {
   "cell_type": "markdown",
   "metadata": {},
   "source": [
    "### Multinomial NB and TF-IDF Vectorizer"
   ]
  },
  {
   "cell_type": "code",
   "execution_count": 62,
   "metadata": {},
   "outputs": [
    {
     "name": "stderr",
     "output_type": "stream",
     "text": [
      "[Parallel(n_jobs=1)]: Using backend SequentialBackend with 1 concurrent workers.\n"
     ]
    },
    {
     "name": "stdout",
     "output_type": "stream",
     "text": [
      "Fitting 3 folds for each of 72 candidates, totalling 216 fits\n",
      "Best score: 0.8876478318002629\n",
      "Best params: {'tvec__max_df': 1.0, 'tvec__max_features': None, 'tvec__min_df': 1, 'tvec__ngram_range': (1, 2), 'tvec__stop_words': 'english', 'tvec__token_pattern': '\\\\w+'}\n",
      "train score: 0.9940867279894875\n",
      "test score: 0.8759842519685039\n"
     ]
    },
    {
     "name": "stderr",
     "output_type": "stream",
     "text": [
      "[Parallel(n_jobs=1)]: Done 216 out of 216 | elapsed:   19.8s finished\n"
     ]
    }
   ],
   "source": [
    "# Instantiate pipeline with TF-IDF vectorizer and multinomial naive bayes\n",
    "pipe_3 = Pipeline([\n",
    "    ('tvec', TfidfVectorizer()),\n",
    "    ('mnb', MultinomialNB())\n",
    "])\n",
    "\n",
    "# Parameters to try out\n",
    "pipe_3_params = {\n",
    "    'tvec__stop_words': [None, 'english'],\n",
    "    'tvec__ngram_range': [(1,1), (1,2), (1,3)],\n",
    "    'tvec__max_features': [None, 1600, 2000],\n",
    "    'tvec__token_pattern': [r'\\w+'],\n",
    "    'tvec__max_df': [1.0, 0.8],\n",
    "    'tvec__min_df': [1, 0.05]\n",
    "}\n",
    "\n",
    "# instantiate grid search and finding out the best score and parameters\n",
    "gs_3 = GridSearchCV(pipe_3, param_grid = pipe_3_params, cv=3, verbose=1)\n",
    "gs_3.fit(X_train, y_train)\n",
    "\n",
    "print('Best score:', gs_3.best_score_)\n",
    "print(\"Best params:\", gs_3.best_params_)\n",
    "\n",
    "# Printing train and test accuracy scores\n",
    "print('train score:', gs_3.score(X_train, y_train))\n",
    "print('test score:', gs_3.score(X_test, y_test))"
   ]
  },
  {
   "cell_type": "code",
   "execution_count": 63,
   "metadata": {
    "scrolled": false
   },
   "outputs": [
    {
     "name": "stdout",
     "output_type": "stream",
     "text": [
      "accuracy:  0.8759842519685039\n",
      "misclassification:  0.12401574803149606\n",
      "precision:  0.9439252336448598\n",
      "recall:  0.7984189723320159\n",
      "specificity:  0.9529411764705882\n"
     ]
    }
   ],
   "source": [
    "# generate predictions to calculate test set accuracy, misclassification, specificity, sensitivity, and precision\n",
    "y_pred = gs_3.predict(X_test)\n",
    "\n",
    "score_print(y_test, y_pred)\n",
    "accuracies['mb_tvec'] = accuracy_score(y_test, y_pred)"
   ]
  },
  {
   "cell_type": "markdown",
   "metadata": {},
   "source": [
    "### Random Forest and Count Vectorizer"
   ]
  },
  {
   "cell_type": "code",
   "execution_count": 64,
   "metadata": {},
   "outputs": [
    {
     "name": "stdout",
     "output_type": "stream",
     "text": [
      "Fitting 3 folds for each of 16 candidates, totalling 48 fits\n"
     ]
    },
    {
     "name": "stderr",
     "output_type": "stream",
     "text": [
      "[Parallel(n_jobs=1)]: Using backend SequentialBackend with 1 concurrent workers.\n",
      "[Parallel(n_jobs=1)]: Done  48 out of  48 | elapsed:  3.6min finished\n"
     ]
    },
    {
     "name": "stdout",
     "output_type": "stream",
     "text": [
      "Best score: 0.8607095926412615\n",
      "Best params: {'cvec__max_df': 0.9, 'cvec__max_features': None, 'cvec__min_df': 1, 'cvec__ngram_range': (1, 1), 'cvec__stop_words': None, 'cvec__token_pattern': '\\\\w+', 'rf__max_depth': None, 'rf__min_samples_split': 3, 'rf__n_estimators': 500}\n",
      "train score: 0.9980289093298291\n",
      "test score: 0.8779527559055118\n"
     ]
    }
   ],
   "source": [
    "# Instantiate pipeline with count vectorizer and random forest\n",
    "pipe_4 = Pipeline([\n",
    "    ('cvec', CountVectorizer()),\n",
    "    ('rf', RandomForestClassifier())\n",
    "])\n",
    "\n",
    "# Parameters to try out\n",
    "pipe_4_params = {\n",
    "    'cvec__stop_words': [None, 'english'],\n",
    "    'cvec__ngram_range': [(1,1), (1,3)], # also tried (1,2)\n",
    "    'cvec__max_features': [None],\n",
    "    'cvec__token_pattern': [r'\\w+'],\n",
    "    'cvec__max_df': [0.9, 0.8], # also tried 0.7, 1\n",
    "    'cvec__min_df': [1], # also tried 0.05\n",
    "    'rf__n_estimators': [500, 1000],\n",
    "    'rf__max_depth': [None],\n",
    "    'rf__min_samples_split': [3] # also tried 2, 4\n",
    "}\n",
    "\n",
    "# instantiate grid search and finding out the best score and parameters\n",
    "gs_4 = GridSearchCV(pipe_4, param_grid = pipe_4_params, cv=3, verbose=1)\n",
    "gs_4.fit(X_train, y_train)\n",
    "\n",
    "print('Best score:', gs_4.best_score_)\n",
    "print(\"Best params:\", gs_4.best_params_)\n",
    "\n",
    "# Printing train and test accuracy scores\n",
    "print('train score:', gs_4.score(X_train, y_train))\n",
    "print('test score:', gs_4.score(X_test, y_test))"
   ]
  },
  {
   "cell_type": "code",
   "execution_count": 65,
   "metadata": {},
   "outputs": [
    {
     "name": "stdout",
     "output_type": "stream",
     "text": [
      "accuracy:  0.8779527559055118\n",
      "misclassification:  0.1220472440944882\n",
      "precision:  0.8603773584905661\n",
      "recall:  0.9011857707509882\n",
      "specificity:  0.8549019607843137\n"
     ]
    }
   ],
   "source": [
    "# generate predictions to calculate test set accuracy, misclassification, specificity, sensitivity, and precision\n",
    "y_pred = gs_4.predict(X_test)\n",
    "\n",
    "score_print(y_test, y_pred)\n",
    "accuracies['rf_cvec'] = accuracy_score(y_test, y_pred)"
   ]
  },
  {
   "cell_type": "markdown",
   "metadata": {},
   "source": [
    "### Random Forest and TF-IDF Vectorizer"
   ]
  },
  {
   "cell_type": "code",
   "execution_count": 66,
   "metadata": {},
   "outputs": [
    {
     "name": "stdout",
     "output_type": "stream",
     "text": [
      "Fitting 3 folds for each of 24 candidates, totalling 72 fits\n"
     ]
    },
    {
     "name": "stderr",
     "output_type": "stream",
     "text": [
      "[Parallel(n_jobs=1)]: Using backend SequentialBackend with 1 concurrent workers.\n",
      "[Parallel(n_jobs=1)]: Done  72 out of  72 | elapsed:  3.0min finished\n"
     ]
    },
    {
     "name": "stdout",
     "output_type": "stream",
     "text": [
      "Best score: 0.8600525624178712\n",
      "Best params: {'rf__max_depth': None, 'rf__min_samples_split': 3, 'rf__n_estimators': 750, 'tvec__max_df': 0.7, 'tvec__max_features': 1500, 'tvec__min_df': 1, 'tvec__ngram_range': (1, 2), 'tvec__stop_words': 'english', 'tvec__token_pattern': '\\\\w+'}\n",
      "train score: 0.9921156373193167\n",
      "test score: 0.889763779527559\n"
     ]
    }
   ],
   "source": [
    "# Instantiate pipeline with TF-IDF vectorizer and random forest\n",
    "pipe_5 = Pipeline([\n",
    "    ('tvec', TfidfVectorizer()),\n",
    "    ('rf', RandomForestClassifier())\n",
    "])\n",
    "\n",
    "# Parameters to try out\n",
    "pipe_5_params = {\n",
    "    'tvec__stop_words': [None, 'english'],\n",
    "    'tvec__ngram_range': [(1,1), (1,2)], \n",
    "    'tvec__max_features': [None, 1500, 1600],\n",
    "    'tvec__token_pattern': [r'\\w+'],\n",
    "    'tvec__max_df': [0.7], # also tried 1, 0.9,0.8, 0.6\n",
    "    'tvec__min_df': [1], # also tried 0.05\n",
    "    'rf__n_estimators': [500, 750], # also tried 1000\n",
    "    'rf__max_depth': [None],\n",
    "    'rf__min_samples_split': [3] # also tries 2, 4\n",
    "}\n",
    "\n",
    "# instantiate grid search and finding out the best score and parameters\n",
    "gs_5 = GridSearchCV(pipe_5, param_grid = pipe_5_params, cv=3, verbose=1)\n",
    "gs_5.fit(X_train, y_train)\n",
    "\n",
    "print('Best score:', gs_5.best_score_)\n",
    "print(\"Best params:\", gs_5.best_params_)\n",
    "\n",
    "# Printing train and test accuracy scores\n",
    "print('train score:', gs_5.score(X_train, y_train))\n",
    "print('test score:', gs_5.score(X_test, y_test))"
   ]
  },
  {
   "cell_type": "code",
   "execution_count": 67,
   "metadata": {},
   "outputs": [
    {
     "name": "stdout",
     "output_type": "stream",
     "text": [
      "accuracy:  0.889763779527559\n",
      "misclassification:  0.11023622047244097\n",
      "precision:  0.8689138576779026\n",
      "recall:  0.9169960474308301\n",
      "specificity:  0.8627450980392157\n"
     ]
    }
   ],
   "source": [
    "# generate predictions to calculate test set accuracy, misclassification, specificity, sensitivity, and precision\n",
    "y_pred = gs_5.predict(X_test)\n",
    "\n",
    "score_print(y_test, y_pred)\n",
    "accuracies['rf_tvec'] = accuracy_score(y_test, y_pred)"
   ]
  },
  {
   "cell_type": "markdown",
   "metadata": {},
   "source": [
    "# Evaluation"
   ]
  },
  {
   "cell_type": "markdown",
   "metadata": {},
   "source": [
    "There are many metrics we can choose to evaluate our models on. If we cared more about building the conspiracy subreddit, then we would choose to optimize on sensitivity. If we care more about climate skeptics, then we would choose specificity. However here we care about both subreddits equaly, so we choose accuracy. We want most of our predictions to be true regardless of their source.\n",
    "\n",
    "Here we compare the test set accuracy of our models, then after selecting the best one we want to evaluate it more in depth. \n",
    "\n",
    "The Logistic Regression model with TF-IDF vectorizer had the best accuracy score, with a 96.6% sensitivity, 87.5% specificity, and 88.1% precision. \n",
    "\n",
    "We also want to see trends in misclassified titles, so we want to find the most frequent bigrams in the false positives and the false negatives. Unsurprisingly, most climate change posts that originally came from conspiracy were misclassified."
   ]
  },
  {
   "cell_type": "code",
   "execution_count": 70,
   "metadata": {
    "scrolled": true
   },
   "outputs": [
    {
     "data": {
      "image/png": "[encoded data removed]",
      "text/plain": [
       "<Figure size 720x504 with 1 Axes>"
      ]
     },
     "metadata": {
      "needs_background": "light"
     },
     "output_type": "display_data"
    }
   ],
   "source": [
    "# plot of bar chart showing test score accuracy for each model built\n",
    "plt.figure(figsize=(10,7))\n",
    "plt.ylim(0.83, 0.93)\n",
    "plt.xlabel('Model', size=15)\n",
    "plt.ylabel('Test accuracy', size=15)\n",
    "plt.title('Test Accuracy by Model', size=20)\n",
    "plt.xticks(range(6), \n",
    "           labels=('Logistic\\nCount', 'Logistic\\nTfidf', \n",
    "                   'MultinomialNB\\nCount', 'MultinomialNB\\nTfidf', \n",
    "                   'Random Tree\\nCount', 'Random Tree\\nTfidf'), size=11)\n",
    "plt.bar(accuracies.keys(), accuracies.values(), color='midnightblue');"
   ]
  },
  {
   "cell_type": "code",
   "execution_count": 73,
   "metadata": {},
   "outputs": [],
   "source": [
    "# Choose best model with best test score accuracy and generate predictions for the entire df\n",
    "df['predictions'] = gs_1.predict(X)"
   ]
  },
  {
   "cell_type": "code",
   "execution_count": 71,
   "metadata": {},
   "outputs": [
    {
     "data": {
      "image/png": "[encoded data removed]",
      "text/plain": [
       "<Figure size 648x432 with 1 Axes>"
      ]
     },
     "metadata": {
      "needs_background": "light"
     },
     "output_type": "display_data"
    }
   ],
   "source": [
    "# To get a sense of topics most frequently misclassified as being from the \n",
    "# conspiracy subreddit when it was actually from Climate Skeptics\n",
    "mask_fp = (df['predictions'] == 1) & (df['source_conspiracy'] == 0)\n",
    "false_positives = df[mask_fp]\n",
    "\n",
    "cvec = CountVectorizer(stop_words = 'english', ngram_range=(2,2))\n",
    "fp_words = pd.DataFrame(cvec.fit_transform(false_positives['title']).todense(),\n",
    "                               columns = cvec.get_feature_names())\n",
    "\n",
    "plt.figure(figsize=(9,6))\n",
    "plt.xlabel('Number of occurences', size=15)\n",
    "plt.ylabel('Bigrams', size=15)\n",
    "plt.title('Most frequent bigrams in False Positives', size=20)\n",
    "fp_words.sum().sort_values().tail(10).plot('barh', color='midnightblue', fontsize=12);"
   ]
  },
  {
   "cell_type": "code",
   "execution_count": 72,
   "metadata": {
    "scrolled": true
   },
   "outputs": [
    {
     "data": {
      "image/png": "[encoded data removed]",
      "text/plain": [
       "<Figure size 648x432 with 1 Axes>"
      ]
     },
     "metadata": {
      "needs_background": "light"
     },
     "output_type": "display_data"
    }
   ],
   "source": [
    "# To get a sense of topics most frequently misclassified as being from the \n",
    "# climate skeptics subreddit when it was actually from Conspiracy\n",
    "mask_fn = (df['predictions'] == 0) & (df['source_conspiracy'] == 1)\n",
    "false_negatives = df[mask_fn]\n",
    "\n",
    "cvec = CountVectorizer(stop_words = 'english', ngram_range=(2,2))\n",
    "fn_words = pd.DataFrame(cvec.fit_transform(false_negatives['title']).todense(),\n",
    "                               columns = cvec.get_feature_names())\n",
    "\n",
    "plt.figure(figsize=(9,6))\n",
    "plt.xlabel('Number of occurences', size=15)\n",
    "plt.ylabel('Bigrams', size=15)\n",
    "plt.title('Most frequent bigrams in False Negatives', size=20)\n",
    "fn_words.sum().sort_values().tail(10).plot('barh', color='midnightblue', fontsize=12);"
   ]
  },
  {
   "cell_type": "markdown",
   "metadata": {},
   "source": [
    "# Conclusion"
   ]
  },
  {
   "cell_type": "markdown",
   "metadata": {},
   "source": [
    "From the 6 models that we implemented, we were able to reconstruct the subreddits with 91% accuracy. The models were all similar in accuracy score on the test set (all in the range of 87% - 91%), even though they were all overfit, which we don't mind since the test score was still good. "
   ]
  }
 ],
 "metadata": {
  "kernelspec": {
   "display_name": "Python 3",
   "language": "python",
   "name": "python3"
  },
  "language_info": {
   "codemirror_mode": {
    "name": "ipython",
    "version": 3
   },
   "file_extension": ".py",
   "mimetype": "text/x-python",
   "name": "python",
   "nbconvert_exporter": "python",
   "pygments_lexer": "ipython3",
   "version": "3.7.3"
  }
 },
 "nbformat": 4,
 "nbformat_minor": 2
}
